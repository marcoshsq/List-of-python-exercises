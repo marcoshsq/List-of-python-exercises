{
  "nbformat": 4,
  "nbformat_minor": 0,
  "metadata": {
    "colab": {
      "name": "List of Keywords in Python",
      "provenance": [],
      "collapsed_sections": []
    },
    "kernelspec": {
      "name": "python3",
      "display_name": "Python 3"
    },
    "language_info": {
      "name": "python"
    }
  },
  "cells": [
    {
      "cell_type": "markdown",
      "source": [
        "# List of Keywords in Python\n",
        "\n",
        "Este notebook fornece informações breves sobre todas as palavras-chave usadas em Python.\n",
        "\n",
        "Palavras-chave são as palavras reservadas em Python. Não podemos usar uma palavra-chave como nome de variável, nome de função ou qualquer outro identificador.\n",
        "\n",
        "[Fonte](https://www.programiz.com/python-programming/keyword-list)"
      ],
      "metadata": {
        "id": "QeQgezX7w9Ei"
      }
    },
    {
      "cell_type": "code",
      "execution_count": null,
      "metadata": {
        "colab": {
          "base_uri": "https://localhost:8080/"
        },
        "id": "mDp1cANWw7Jr",
        "outputId": "62c521e0-51fa-49f3-f64d-9859f28552a1"
      },
      "outputs": [
        {
          "output_type": "stream",
          "name": "stdout",
          "text": [
            "['False', 'None', 'True', 'and', 'as', 'assert', 'async', 'await', 'break', 'class', 'continue', 'def', 'del', 'elif', 'else', 'except', 'finally', 'for', 'from', 'global', 'if', 'import', 'in', 'is', 'lambda', 'nonlocal', 'not', 'or', 'pass', 'raise', 'return', 'try', 'while', 'with', 'yield']\n"
          ]
        }
      ],
      "source": [
        "# Keywords podem ser removidas e adicionadas.\n",
        "# Para saber quais keywords temos no momomento\n",
        "import keyword\n",
        "print(keyword.kwlist)"
      ]
    },
    {
      "cell_type": "markdown",
      "source": [
        "# True, False\n",
        "\n",
        "True e False são valores de verdade em Python. Eles são os resultados de operações de comparação ou operações lógicas (booleanas) em Python. Por exemplo:"
      ],
      "metadata": {
        "id": "maNJ8oK4yZDp"
      }
    },
    {
      "cell_type": "code",
      "source": [
        "1 == 1 # true\n",
        "\n",
        "5 > 3 # True\n",
        "\n",
        "True or False # True\n",
        "\n",
        "10 <= 1 # False\n",
        "\n",
        "3 > 7 # False\n",
        "\n",
        "True and False # False"
      ],
      "metadata": {
        "id": "wXvE7Mtsyh4U"
      },
      "execution_count": null,
      "outputs": []
    },
    {
      "cell_type": "markdown",
      "source": [
        "# None\n",
        "\n",
        "None é uma constante especial em Python que representa a ausência de um valor ou valor nulo.\n",
        "\n",
        "É um objeto de seu próprio tipo de dados, o NoneType. Não podemos criar vários objetos None, mas podemos atribuí-los a variáveis. Essas variáveis serão iguais entre si.\n",
        "\n",
        "Devemos tomar cuidado especial para que None não implique False, 0 ou qualquer lista vazia, dicionário, string etc. Por exemplo:"
      ],
      "metadata": {
        "id": "t7Fu8_NDzDIr"
      }
    },
    {
      "cell_type": "code",
      "source": [
        "None == 0 # False\n",
        "\n",
        "None == [] # False\n",
        "\n",
        "None == False # False\n",
        "\n",
        "x = None\n",
        "y = None\n",
        "x == y # True"
      ],
      "metadata": {
        "colab": {
          "base_uri": "https://localhost:8080/"
        },
        "id": "vfnGvzvFzSyW",
        "outputId": "17249f54-2361-49e1-b10f-8b93e63a37f2"
      },
      "execution_count": null,
      "outputs": [
        {
          "output_type": "execute_result",
          "data": {
            "text/plain": [
              "True"
            ]
          },
          "metadata": {},
          "execution_count": 8
        }
      ]
    },
    {
      "cell_type": "markdown",
      "source": [
        "Funções void que não retornam nada retornarão um objeto None automaticamente. \n",
        "\n",
        "None também é retornado por funções nas quais o fluxo do programa não encontra uma instrução de retorno. Por exemplo:"
      ],
      "metadata": {
        "id": "mzhjcl2lzmgF"
      }
    },
    {
      "cell_type": "code",
      "source": [
        "def a_void_function():\n",
        "    a = 1\n",
        "    b = 2\n",
        "    c = a + b\n",
        "\n",
        "x = a_void_function()\n",
        "print(x)"
      ],
      "metadata": {
        "colab": {
          "base_uri": "https://localhost:8080/"
        },
        "id": "z5kX5D1qznTl",
        "outputId": "7daf4991-e8d1-43c8-aabc-57bff65f3837"
      },
      "execution_count": null,
      "outputs": [
        {
          "output_type": "stream",
          "name": "stdout",
          "text": [
            "None\n"
          ]
        }
      ]
    },
    {
      "cell_type": "markdown",
      "source": [
        "# and, or , not\n",
        "\n",
        "Operadores lógicos, seguem suas regras de tabela verdade.\n",
        "\n",
        "* and - V com V dá V, ou seja, só é verdadeiro se todos forem verdadeiros;\n",
        "* or - F com F dá F, ou seja, só dá falso se todos forem falsos;\n",
        "* not - troca o valor lógico."
      ],
      "metadata": {
        "id": "xBmb7D0Q0AuV"
      }
    },
    {
      "cell_type": "code",
      "source": [
        "# and \n",
        "\n",
        "x = 1 \n",
        "y = 5 \n",
        "\n",
        "if x == 5 and y == 5:\n",
        "    print(True)\n",
        "else:\n",
        "    print(False)\n",
        "\n",
        "# Como apenas uma das condições é verdadeira\n",
        "# O retorno é falso no caso do and"
      ],
      "metadata": {
        "colab": {
          "base_uri": "https://localhost:8080/"
        },
        "id": "nBfJ9HGK0HJX",
        "outputId": "38c0ed39-1dc3-45ff-ac65-00aa7794e2e6"
      },
      "execution_count": null,
      "outputs": [
        {
          "output_type": "stream",
          "name": "stdout",
          "text": [
            "False\n"
          ]
        }
      ]
    },
    {
      "cell_type": "code",
      "source": [
        "# and \n",
        "\n",
        "x = 1 \n",
        "y = 5 \n",
        "\n",
        "if x == 5 or y == 5:\n",
        "    print(True)\n",
        "else:\n",
        "    print(False)\n",
        "\n",
        "# Como apenas uma das condições é verdadeira\n",
        "# O retorno é True no caso do or"
      ],
      "metadata": {
        "colab": {
          "base_uri": "https://localhost:8080/"
        },
        "id": "zdZLK8fm1Gth",
        "outputId": "c45b82ab-3654-4ebf-e13d-6847013ddee0"
      },
      "execution_count": null,
      "outputs": [
        {
          "output_type": "stream",
          "name": "stdout",
          "text": [
            "True\n"
          ]
        }
      ]
    },
    {
      "cell_type": "code",
      "source": [
        "# not\n",
        "\n",
        "x = 1 \n",
        "y = 5 \n",
        "\n",
        "if not x == y :\n",
        "    print(True)\n",
        "else:\n",
        "    print(False)"
      ],
      "metadata": {
        "colab": {
          "base_uri": "https://localhost:8080/"
        },
        "id": "7auNXJfH1iFp",
        "outputId": "e101d1d5-ef71-433a-b08e-73b1adca2c50"
      },
      "execution_count": null,
      "outputs": [
        {
          "output_type": "stream",
          "name": "stdout",
          "text": [
            "True\n"
          ]
        }
      ]
    },
    {
      "cell_type": "markdown",
      "source": [
        "# as\n",
        "\n",
        "as é usado para criar um pseudônimo (apelido) ao importar um módulo. Significa dar um nome diferente (definido pelo usuário) a um módulo ao importá-lo.\n",
        "\n",
        "Por exemplo, Python tem um módulo padrão chamado math. Suponha que queremos calcular qual a raiz quadrada de pi usando um apelido. Podemos fazer da seguinte forma usando as:"
      ],
      "metadata": {
        "id": "0OpJUQ-U2DwH"
      }
    },
    {
      "cell_type": "code",
      "source": [
        "import math as calculadora_do_python\n",
        "\n",
        "calculadora_do_python.sqrt(calculadora_do_python.pi)\n",
        "# mas existem convenções de apelidos, então usar com sabedoria u.u"
      ],
      "metadata": {
        "colab": {
          "base_uri": "https://localhost:8080/"
        },
        "id": "m4IG3DLR2RFe",
        "outputId": "823f4a55-6b73-4371-d576-04c5fdec0b09"
      },
      "execution_count": null,
      "outputs": [
        {
          "output_type": "execute_result",
          "data": {
            "text/plain": [
              "1.7724538509055159"
            ]
          },
          "metadata": {},
          "execution_count": 20
        }
      ]
    },
    {
      "cell_type": "markdown",
      "source": [
        "# assert\n",
        "\n",
        "assert é usado para fins de depuração.\n",
        "\n",
        "Durante a programação, às vezes desejamos conhecer o estado interno ou verificar se nossas suposições são verdadeiras. assert nos ajuda a fazer isso e encontrar bugs de forma mais conveniente. assert é seguido por uma condição.\n",
        "\n",
        "Se a condição for verdadeira, nada acontece. Mas se a condição for falsa, AssertionError é gerado. Por exemplo:"
      ],
      "metadata": {
        "id": "OMEIj1Ca21fP"
      }
    },
    {
      "cell_type": "code",
      "source": [
        "a = 4\n",
        "assert a < 5\n",
        "assert a > 5, \"O valor de 'a' é muito pequeno\""
      ],
      "metadata": {
        "colab": {
          "base_uri": "https://localhost:8080/",
          "height": 200
        },
        "id": "b0NTMggR2-BA",
        "outputId": "df9fd439-8ac0-4ce7-f7a0-68b3783ae745"
      },
      "execution_count": null,
      "outputs": [
        {
          "output_type": "error",
          "ename": "AssertionError",
          "evalue": "ignored",
          "traceback": [
            "\u001b[0;31m---------------------------------------------------------------------------\u001b[0m",
            "\u001b[0;31mAssertionError\u001b[0m                            Traceback (most recent call last)",
            "\u001b[0;32m<ipython-input-23-1b3ecb6d6109>\u001b[0m in \u001b[0;36m<module>\u001b[0;34m()\u001b[0m\n\u001b[1;32m      1\u001b[0m \u001b[0ma\u001b[0m \u001b[0;34m=\u001b[0m \u001b[0;36m4\u001b[0m\u001b[0;34m\u001b[0m\u001b[0;34m\u001b[0m\u001b[0m\n\u001b[1;32m      2\u001b[0m \u001b[0;32massert\u001b[0m \u001b[0ma\u001b[0m \u001b[0;34m<\u001b[0m \u001b[0;36m5\u001b[0m\u001b[0;34m\u001b[0m\u001b[0;34m\u001b[0m\u001b[0m\n\u001b[0;32m----> 3\u001b[0;31m \u001b[0;32massert\u001b[0m \u001b[0ma\u001b[0m \u001b[0;34m>\u001b[0m \u001b[0;36m5\u001b[0m\u001b[0;34m,\u001b[0m \u001b[0;34m\"O valor de 'a' é muito pequeno\"\u001b[0m\u001b[0;34m\u001b[0m\u001b[0;34m\u001b[0m\u001b[0m\n\u001b[0m",
            "\u001b[0;31mAssertionError\u001b[0m: O valor de 'a' é muito pequeno"
          ]
        }
      ]
    },
    {
      "cell_type": "markdown",
      "source": [
        "# async, await\n",
        "\n",
        "As palavras-chave async e await são fornecidas pela biblioteca assíncrona em Python. \n",
        "\n",
        "Eles são usados para escrever código concorrente em Python. Por exemplo,"
      ],
      "metadata": {
        "id": "H3rFI-Q13eVm"
      }
    },
    {
      "cell_type": "code",
      "source": [
        "import asyncio\n",
        "\n",
        "async def main():\n",
        "    print('Hello')\n",
        "    await asyncio.sleep(1)\n",
        "    print('world')"
      ],
      "metadata": {
        "id": "6TTciGjw3l19"
      },
      "execution_count": null,
      "outputs": []
    },
    {
      "cell_type": "markdown",
      "source": [
        "# break, continue\n",
        "\n",
        "break e continue são usados dentro de loops for e while para alterar seu comportamento normal.\n",
        "\n",
        "break terminará o menor loop em que estiver e o controle fluirá para a instrução imediatamente abaixo do loop. continue faz com que termine a iteração atual do loop, mas não o loop inteiro.\n",
        "\n",
        "Isso pode ser ilustrado com os dois exemplos a seguir:"
      ],
      "metadata": {
        "id": "Z2cihn2w4L8G"
      }
    },
    {
      "cell_type": "code",
      "source": [
        "for i in range(1,11):\n",
        "    if i == 5:\n",
        "        break\n",
        "    print(i)"
      ],
      "metadata": {
        "colab": {
          "base_uri": "https://localhost:8080/"
        },
        "id": "mCa3l2uU4biz",
        "outputId": "356be6a2-dcd0-411f-8aad-b1acf4aa23ce"
      },
      "execution_count": null,
      "outputs": [
        {
          "output_type": "stream",
          "name": "stdout",
          "text": [
            "1\n",
            "2\n",
            "3\n",
            "4\n"
          ]
        }
      ]
    },
    {
      "cell_type": "code",
      "source": [
        "for i in range(1,11):\n",
        "    if i == 5:\n",
        "        continue\n",
        "    print(i)"
      ],
      "metadata": {
        "colab": {
          "base_uri": "https://localhost:8080/"
        },
        "id": "fiD-Omz84fVz",
        "outputId": "c00ec557-da38-4254-c405-0abeb19f7111"
      },
      "execution_count": null,
      "outputs": [
        {
          "output_type": "stream",
          "name": "stdout",
          "text": [
            "1\n",
            "2\n",
            "3\n",
            "4\n",
            "6\n",
            "7\n",
            "8\n",
            "9\n",
            "10\n"
          ]
        }
      ]
    },
    {
      "cell_type": "markdown",
      "source": [
        "# class e def\n",
        "\n",
        "### class é usado para definir uma nova classe definida pelo usuário em Python.\n",
        "\n",
        "Classe é uma coleção de atributos e métodos relacionados que tentam representar uma situação do mundo real. Essa ideia de juntar dados e funções em uma classe é central para o conceito de programação orientada a objetos (OOP).\n",
        "\n",
        "As classes podem ser definidas em qualquer lugar em um programa. Mas é uma boa prática definir uma única classe em um módulo. \n",
        "\n",
        "### Já def é usado para definir uma função definida pelo usuário.\n",
        "\n",
        "Função é um bloco de instruções relacionadas, que juntas realizam alguma tarefa específica. Ele nos ajuda a organizar o código em partes gerenciáveis e também a realizar algumas tarefas repetitivas."
      ],
      "metadata": {
        "id": "vtLVdmED6h5B"
      }
    },
    {
      "cell_type": "code",
      "source": [
        "class ExampleClass:\n",
        "\n",
        "    def function(self):\n",
        "        pass"
      ],
      "metadata": {
        "id": "A5jbc45X6ukl"
      },
      "execution_count": null,
      "outputs": []
    },
    {
      "cell_type": "markdown",
      "source": [
        "# del\n",
        "\n",
        "del é usado para excluir a referência a um objeto. \n",
        "\n",
        "Tudo é objeto em Python. Podemos excluir uma referência de variável usando del."
      ],
      "metadata": {
        "id": "4JjGqzcw7UGT"
      }
    },
    {
      "cell_type": "code",
      "source": [
        "a = b = 5\n",
        "del a\n",
        "a"
      ],
      "metadata": {
        "colab": {
          "base_uri": "https://localhost:8080/",
          "height": 200
        },
        "id": "ZMSOvQ-l7eWc",
        "outputId": "b17c76c6-588c-4496-c014-e4ac75214951"
      },
      "execution_count": null,
      "outputs": [
        {
          "output_type": "error",
          "ename": "NameError",
          "evalue": "ignored",
          "traceback": [
            "\u001b[0;31m---------------------------------------------------------------------------\u001b[0m",
            "\u001b[0;31mNameError\u001b[0m                                 Traceback (most recent call last)",
            "\u001b[0;32m<ipython-input-36-22a6e3d7d570>\u001b[0m in \u001b[0;36m<module>\u001b[0;34m()\u001b[0m\n\u001b[1;32m      1\u001b[0m \u001b[0ma\u001b[0m \u001b[0;34m=\u001b[0m \u001b[0mb\u001b[0m \u001b[0;34m=\u001b[0m \u001b[0;36m5\u001b[0m\u001b[0;34m\u001b[0m\u001b[0;34m\u001b[0m\u001b[0m\n\u001b[1;32m      2\u001b[0m \u001b[0;32mdel\u001b[0m \u001b[0ma\u001b[0m\u001b[0;34m\u001b[0m\u001b[0;34m\u001b[0m\u001b[0m\n\u001b[0;32m----> 3\u001b[0;31m \u001b[0ma\u001b[0m\u001b[0;34m\u001b[0m\u001b[0;34m\u001b[0m\u001b[0m\n\u001b[0m",
            "\u001b[0;31mNameError\u001b[0m: name 'a' is not defined"
          ]
        }
      ]
    },
    {
      "cell_type": "code",
      "source": [
        "b"
      ],
      "metadata": {
        "colab": {
          "base_uri": "https://localhost:8080/"
        },
        "id": "UrFAhuZC7pLG",
        "outputId": "57fe451f-ae14-4fba-fd9a-2c9564404745"
      },
      "execution_count": null,
      "outputs": [
        {
          "output_type": "execute_result",
          "data": {
            "text/plain": [
              "5"
            ]
          },
          "metadata": {},
          "execution_count": 37
        }
      ]
    },
    {
      "cell_type": "code",
      "source": [
        "a = ['x','y','z']\n",
        "del a[1]\n",
        "a"
      ],
      "metadata": {
        "colab": {
          "base_uri": "https://localhost:8080/"
        },
        "id": "CepVfHXI7pPH",
        "outputId": "d017d6e7-f144-4c77-db4d-7c2eb4c40eeb"
      },
      "execution_count": null,
      "outputs": [
        {
          "output_type": "execute_result",
          "data": {
            "text/plain": [
              "['x', 'z']"
            ]
          },
          "metadata": {},
          "execution_count": 38
        }
      ]
    },
    {
      "cell_type": "markdown",
      "source": [
        "# if, else, elif\n",
        "\n",
        "if, else, elif são usados para ramificação condicional ou tomada de decisão."
      ],
      "metadata": {
        "id": "-vKgKoXv78mF"
      }
    },
    {
      "cell_type": "code",
      "source": [
        "x = 1\n",
        "y = 2\n",
        "\n",
        "if x > y:\n",
        "    print(\"x é maior que y\")\n",
        "\n",
        "elif x < y:\n",
        "    print(\"y é maior que x\")\n",
        "\n",
        "else:\n",
        "    print(\"São o mesmo número\")"
      ],
      "metadata": {
        "colab": {
          "base_uri": "https://localhost:8080/"
        },
        "id": "WXAHioDj8DA1",
        "outputId": "2daaf8c7-6203-4739-d80a-2bb348f483a9"
      },
      "execution_count": null,
      "outputs": [
        {
          "output_type": "stream",
          "name": "stdout",
          "text": [
            "y é maior que x\n"
          ]
        }
      ]
    },
    {
      "cell_type": "markdown",
      "source": [
        "# except, raise, try\n",
        "\n",
        "except, raise, try são usados com exceções em Python.\n",
        "\n",
        "As exceções são basicamente erros que sugerem que algo deu errado durante a execução do nosso programa. IOError, ValueError, ZeroDivisionError, ImportError, NameError, TypeError etc. são alguns exemplos de exceção em Python. blocos try...except são usados para capturar exceções em Python.\n",
        "\n",
        "Podemos lançar uma exceção explicitamente com a palavra-chave raise. Segue um exemplo:"
      ],
      "metadata": {
        "id": "JRT0Nz4J8lJc"
      }
    },
    {
      "cell_type": "code",
      "source": [
        "def reciprocal(num):\n",
        "    try:\n",
        "        r = 1/num\n",
        "    except:\n",
        "        print('Exception caught')\n",
        "        return\n",
        "    return r\n",
        "\n",
        "print(reciprocal(10))\n",
        "print(reciprocal(0))"
      ],
      "metadata": {
        "colab": {
          "base_uri": "https://localhost:8080/"
        },
        "id": "9DzDGO5k8vIt",
        "outputId": "f09e50c7-fcdb-4c9b-d4bf-c24ec9ac81b1"
      },
      "execution_count": null,
      "outputs": [
        {
          "output_type": "stream",
          "name": "stdout",
          "text": [
            "0.1\n",
            "Exception caught\n",
            "None\n"
          ]
        }
      ]
    },
    {
      "cell_type": "markdown",
      "source": [
        "# finally\n",
        "\n",
        "finally é usado com try…except block para fechar recursos ou fluxos de arquivos.\n",
        "\n",
        "O uso de finally garante que o bloco de código dentro dele seja executado mesmo se houver uma exceção não tratada. Por exemplo:\n",
        "\n"
      ],
      "metadata": {
        "id": "JXZGbnbG9apD"
      }
    },
    {
      "cell_type": "code",
      "source": [
        "try:\n",
        "    Try-block\n",
        "except exception1:\n",
        "    Exception1-block\n",
        "except exception2:\n",
        "    Exception2-block\n",
        "else:\n",
        "    Else-block\n",
        "finally:\n",
        "    Finally-block\n",
        "\n",
        "\"\"\"\n",
        "Aqui, se houver uma exceção no bloco Try, ela será tratada no bloco \n",
        "except ou else. Mas não importa em que ordem a execução flua, podemos \n",
        "ter certeza de que o bloco Finalmente é executado mesmo se houver um \n",
        "erro. Isso é útil na limpeza dos recursos.\n",
        "\n",
        "\"\"\""
      ],
      "metadata": {
        "id": "dKDLynNR9QUf"
      },
      "execution_count": null,
      "outputs": []
    },
    {
      "cell_type": "markdown",
      "source": [
        "# for\n",
        "\n",
        "for é usado para loop. Geralmente usamos for quando sabemos o número de vezes que queremos fazer um loop.\n",
        "\n",
        "Em Python podemos usá-lo com qualquer tipo de sequência como uma lista ou uma string. Aqui está um exemplo em que for é usado para percorrer uma lista de nomes:"
      ],
      "metadata": {
        "id": "LOHBpC7c9azi"
      }
    },
    {
      "cell_type": "code",
      "source": [
        "names = ['John','Monica','Steven','Robin']\n",
        "for i in names:\n",
        "    print('Hello '+i)"
      ],
      "metadata": {
        "id": "CiHwsn7Z9lGe"
      },
      "execution_count": null,
      "outputs": []
    },
    {
      "cell_type": "markdown",
      "source": [
        "# from, import\n",
        "\n",
        "A palavra-chave import é usada para importar módulos para o projeto atual. from…import é usado para importar atributos ou funções específicas para o namespace atual."
      ],
      "metadata": {
        "id": "NU_4-F-e9a3A"
      }
    },
    {
      "cell_type": "code",
      "source": [
        "import math # Importa o pacote math para este projeto;\n",
        "\n",
        "from math import sqrt # Importa apenas a função de raiz quadrada do pacote."
      ],
      "metadata": {
        "id": "OCzoHcBD9yib"
      },
      "execution_count": null,
      "outputs": []
    },
    {
      "cell_type": "markdown",
      "source": [
        "# global\n",
        "\n",
        "global é usado para declarar que uma variável dentro da função é global (fora da função).\n",
        "\n",
        "Se precisarmos ler o valor de uma variável global, não é necessário defini-la como global. Isso é entendido.\n",
        "\n",
        "Se precisarmos modificar o valor de uma variável global dentro de uma função, devemos declará-la com global. Caso contrário, uma variável local com esse nome é criada."
      ],
      "metadata": {
        "id": "h3786HBF9a6r"
      }
    },
    {
      "cell_type": "code",
      "source": [
        "globvar = 10\n",
        "\n",
        "def read1():\n",
        "    print(globvar)\n",
        "\n",
        "def write1():\n",
        "    global globvar\n",
        "    globvar = 5\n",
        "\n",
        "def write2():\n",
        "    globvar = 15\n",
        "\n",
        "read1()\n",
        "write1()\n",
        "read1()\n",
        "write2()\n",
        "read1()"
      ],
      "metadata": {
        "colab": {
          "base_uri": "https://localhost:8080/"
        },
        "id": "yNm0cVal-PWW",
        "outputId": "aeff48d8-cce7-4a5b-c936-02441ad9d42a"
      },
      "execution_count": 1,
      "outputs": [
        {
          "output_type": "stream",
          "name": "stdout",
          "text": [
            "10\n",
            "5\n",
            "5\n"
          ]
        }
      ]
    },
    {
      "cell_type": "markdown",
      "source": [
        "Aqui, a função read1() está apenas lendo o valor de globvar. Portanto, não precisamos declará-lo como global. Mas a função write1() está modificando o valor, então precisamos declarar a variável como global.\n",
        "\n",
        "Podemos ver em nossa saída que a modificação ocorreu (10 é alterado para 5). O write2() também tenta modificar este valor. Mas não o declaramos como global.\n",
        "\n",
        "Assim, é criada uma nova variável local globvar que não é visível fora desta função. Embora modifiquemos essa variável local para 15, a variável global permanece inalterada. Isso é claramente visível em nossa saída."
      ],
      "metadata": {
        "id": "RtHbigMa-Z0J"
      }
    },
    {
      "cell_type": "markdown",
      "source": [
        "# in\n",
        "\n",
        "in é usado para testar se uma sequência (lista, tupla, string etc.) contém um valor. \n",
        "\n",
        "Retorna True se o valor estiver presente, senão retorna False. \n",
        "\n",
        "Também é usado em for loops."
      ],
      "metadata": {
        "id": "xT2MzQGT9a-H"
      }
    },
    {
      "cell_type": "code",
      "source": [
        "a = [1, 2, 3, 4, 5]\n",
        "5 in a\n",
        "0 in a\n",
        "\n",
        "for i in 'hello':\n",
        "    print(i)"
      ],
      "metadata": {
        "id": "yUzvHkNO-o61"
      },
      "execution_count": null,
      "outputs": []
    },
    {
      "cell_type": "markdown",
      "source": [
        "# is\n",
        "\n",
        "O is é um operador de igualdade mais forte, ele é usado para dizer se dois objetos são identicos, porém ele é diferente do \"==\", pois o \"==\" é usado para dizer se dois objetos são iguais, já o is diz se eles são o mesmo."
      ],
      "metadata": {
        "id": "JArOP1659bEk"
      }
    },
    {
      "cell_type": "code",
      "source": [
        "[] is [] # False, pois mesmo que ambas as listas estejam vazias elas podem ser modificadas\n",
        "         # Logo, ocupam diferentes espaços na memória.\n",
        "\n",
        "() is () # True, pois tuplas são imutáveis"
      ],
      "metadata": {
        "colab": {
          "base_uri": "https://localhost:8080/"
        },
        "id": "eNIN8eRp_RDg",
        "outputId": "61291293-255d-494c-e9a9-1cb67dd89602"
      },
      "execution_count": 6,
      "outputs": [
        {
          "output_type": "execute_result",
          "data": {
            "text/plain": [
              "True"
            ]
          },
          "metadata": {},
          "execution_count": 6
        }
      ]
    },
    {
      "cell_type": "markdown",
      "source": [
        "# lambda\n",
        "\n",
        "lambda é usado para criar uma função anônima (função sem nome). \n",
        "\n",
        "É uma função inline que não contém uma instrução de retorno. Consiste em uma expressão que é avaliada e retornada."
      ],
      "metadata": {
        "id": "za4kg3aF9so2"
      }
    },
    {
      "cell_type": "code",
      "source": [
        "a = lambda x: x*2\n",
        "for i in range(1,6):\n",
        "    print(a(i))"
      ],
      "metadata": {
        "colab": {
          "base_uri": "https://localhost:8080/"
        },
        "id": "_Bd3U6mAANPt",
        "outputId": "26a81e02-9747-4cee-834a-ae9f507282ec"
      },
      "execution_count": 7,
      "outputs": [
        {
          "output_type": "stream",
          "name": "stdout",
          "text": [
            "2\n",
            "4\n",
            "6\n",
            "8\n",
            "10\n"
          ]
        }
      ]
    },
    {
      "cell_type": "markdown",
      "source": [
        "# nonlocal\n",
        "\n",
        "O uso da palavra-chave não local é muito semelhante à palavra-chave global. nonlocal é usado para declarar que uma variável dentro de uma função aninhada (função dentro de uma função) não é local para ela, o que significa que está na função de inclusão externa. \n",
        "\n",
        "Se precisarmos modificar o valor de uma variável não local dentro de uma função aninhada, devemos declará-la com não local. Caso contrário, uma variável local com esse nome é criada dentro da função aninhada."
      ],
      "metadata": {
        "id": "5KW2ACkX9suU"
      }
    },
    {
      "cell_type": "code",
      "source": [
        "def outer_function():\n",
        "    a = 5\n",
        "    def inner_function():\n",
        "        nonlocal a\n",
        "        a = 10\n",
        "        print(\"Inner function: \",a)\n",
        "    inner_function()\n",
        "    print(\"Outer function: \",a)\n",
        "\n",
        "outer_function()"
      ],
      "metadata": {
        "id": "7igYupMwAslc"
      },
      "execution_count": null,
      "outputs": []
    },
    {
      "cell_type": "markdown",
      "source": [
        "# pass\n",
        "\n",
        "pass é uma declaração nula em Python. Nada acontece quando é executado. Ele é usado como um marcador de posição."
      ],
      "metadata": {
        "id": "yn_g3KKT9szb"
      }
    },
    {
      "cell_type": "code",
      "source": [
        "def exemplo():\n",
        "    pass\n",
        "\n",
        "while True:\n",
        "    pass\n",
        "\n",
        "for i in range(0, 1):\n",
        "    pass"
      ],
      "metadata": {
        "id": "PVDLezzqA5TW"
      },
      "execution_count": null,
      "outputs": []
    },
    {
      "cell_type": "markdown",
      "source": [
        "# return\n",
        "\n",
        "É usado dentro de funções para que elas retornem algo."
      ],
      "metadata": {
        "id": "eeyoti4_90Lw"
      }
    },
    {
      "cell_type": "code",
      "source": [
        "def func_return():\n",
        "    a = 10\n",
        "    return a\n",
        "\n",
        "def no_return():\n",
        "    a = 10\n",
        "\n",
        "print(func_return())\n",
        "print(no_return())"
      ],
      "metadata": {
        "colab": {
          "base_uri": "https://localhost:8080/"
        },
        "id": "4KOBjbm6B-3t",
        "outputId": "1013db11-25b7-4f7a-f8c1-869d2fefc752"
      },
      "execution_count": 10,
      "outputs": [
        {
          "output_type": "stream",
          "name": "stdout",
          "text": [
            "10\n",
            "None\n"
          ]
        }
      ]
    },
    {
      "cell_type": "markdown",
      "source": [
        "# while\n",
        "\n",
        "É o segundo tipo de loop do Python, diferente do for, que é usado quando sabemos o número de vezes que queremo realizar uma ação, o while contínua indefinidamente, até que alcance uma condição, ou seja usado o break."
      ],
      "metadata": {
        "id": "LfBT4_2c90Tp"
      }
    },
    {
      "cell_type": "code",
      "source": [
        "flag = 0\n",
        "while flag < 10:\n",
        "    print(f\"Counting {flag + 1}...\")\n",
        "    flag += 1\n"
      ],
      "metadata": {
        "colab": {
          "base_uri": "https://localhost:8080/"
        },
        "id": "wKqBbBefBjdz",
        "outputId": "8d4fb5fa-ad5f-49a9-adad-5d78de5105ce"
      },
      "execution_count": 9,
      "outputs": [
        {
          "output_type": "stream",
          "name": "stdout",
          "text": [
            "Counting 1...\n",
            "Counting 2...\n",
            "Counting 3...\n",
            "Counting 4...\n",
            "Counting 5...\n",
            "Counting 6...\n",
            "Counting 7...\n",
            "Counting 8...\n",
            "Counting 9...\n",
            "Counting 10...\n"
          ]
        }
      ]
    },
    {
      "cell_type": "markdown",
      "source": [
        "# with\n",
        "\n",
        "with é usado para envolver a execução de um bloco de código dentro de métodos definidos pelo gerenciador de contexto.\n",
        "\n",
        "O gerenciador de contexto é uma classe que implementa os métodos __enter__ e __exit__. \n",
        "\n",
        "O uso da instrução with garante que o método __exit__ seja chamado no final do bloco aninhado. Este conceito é semelhante ao uso do bloco try…finally."
      ],
      "metadata": {
        "id": "cf33M9WZ90YI"
      }
    },
    {
      "cell_type": "code",
      "source": [
        "with open('example.txt', 'w') as my_file:\n",
        "    my_file.write('Hello world!')\n",
        "\n",
        "\"\"\"O with é usado para trabalhar com arquivos no python,\n",
        "pois ele automaticamente fecha o arquivo.\"\"\""
      ],
      "metadata": {
        "id": "XI_WRC5pCYt6"
      },
      "execution_count": null,
      "outputs": []
    },
    {
      "cell_type": "markdown",
      "source": [
        "# yield\n",
        "\n",
        "yield é usado dentro de uma função como uma instrução return. Mas o rendimento retorna um gerador.\n",
        "\n",
        "Generator é um iterador que gera um item por vez. Uma grande lista de valores ocupará muita memória. Os geradores são úteis nessa situação, pois geram apenas um valor por vez, em vez de armazenar todos os valores na memória."
      ],
      "metadata": {
        "id": "uMYdoNp29s4Y"
      }
    },
    {
      "cell_type": "code",
      "source": [
        "def generator():\n",
        "    for i in range(6):\n",
        "        yield i*i\n",
        "\n",
        "g = generator()\n",
        "for i in g:\n",
        "    print(i)"
      ],
      "metadata": {
        "colab": {
          "base_uri": "https://localhost:8080/"
        },
        "id": "dIkelhxaCzwE",
        "outputId": "3186b764-4c7b-4753-fb7f-97e2e08f415e"
      },
      "execution_count": 11,
      "outputs": [
        {
          "output_type": "stream",
          "name": "stdout",
          "text": [
            "0\n",
            "1\n",
            "4\n",
            "9\n",
            "16\n",
            "25\n"
          ]
        }
      ]
    },
    {
      "cell_type": "markdown",
      "source": [
        "# Por hoje é isso (づ｡◕‿‿◕｡)づ:"
      ],
      "metadata": {
        "id": "jyxsxvWYDC9N"
      }
    }
  ]
}