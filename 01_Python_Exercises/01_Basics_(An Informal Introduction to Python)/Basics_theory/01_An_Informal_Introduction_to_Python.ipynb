{
  "cells": [
    {
      "cell_type": "markdown",
      "metadata": {
        "id": "9PJuB4AO6VEo"
      },
      "source": [
        "# 03. An Informal Introduction to Python.\n",
        "\n",
        "Essa é a parte 03 do tutorial oficial do Python, já que os primeiros dois capitulos falam apenas de como usar a linguagem através do Shell, eu não vou utiliza-la aqui, comecemos a partir do capítulo três.\n",
        "\n",
        "\n",
        "\n",
        "1.   Números e operações básicas;\n",
        "2.   Introdução á strings;\n",
        "3.   Introdução as listas.\n",
        "4.   Exercícios\n",
        "\n",
        "[A página do tutorial](https://docs.python.org/3/tutorial/introduction.html)"
      ]
    },
    {
      "cell_type": "code",
      "execution_count": 1,
      "metadata": {
        "colab": {
          "base_uri": "https://localhost:8080/"
        },
        "id": "qFlk-jeuVH1S",
        "outputId": "a9389dd3-cf82-4b76-9ebb-c12de45390b6"
      },
      "outputs": [
        {
          "name": "stdout",
          "output_type": "stream",
          "text": [
            "Oi, eu sou o computador!\n"
          ]
        }
      ],
      "source": [
        "# Alguns comandos básicos do Python que são importantes:\n",
        "\n",
        "\"\"\"O primeiro comando a aprender é o print(), a função print \n",
        "recebe algum objeto e imprime ele na tela ou no console.\"\"\"\n",
        "\n",
        "print(\"Oi, eu sou o computador!\")"
      ]
    },
    {
      "cell_type": "code",
      "execution_count": 2,
      "metadata": {
        "colab": {
          "base_uri": "https://localhost:8080/"
        },
        "id": "uL_q_HBWWd-E",
        "outputId": "e59f73f3-b78a-4744-8cdd-76b3077e5b68"
      },
      "outputs": [
        {
          "name": "stdout",
          "output_type": "stream",
          "text": [
            "Hello, World!\n",
            "Hello,World!\n",
            "Hello**World\n",
            "Hello//World\n",
            "Hello*-*-*"
          ]
        }
      ],
      "source": [
        "# Exercise 01\n",
        "\n",
        "\"\"\"\n",
        "Create your first program and help your computer greet the World.\n",
        "\n",
        "\"\"\"\n",
        "\n",
        "\n",
        "# Solution\n",
        "from os import sep\n",
        "\n",
        "\n",
        "print(\"Hello, World!\")\n",
        "\n",
        "# Other things we can do\n",
        "print(\n",
        "    \"Hello\", \"World!\", sep=\",\"\n",
        ")  # esse (sep=\"\") separa as partes da string com o simbolo\n",
        "print(\"Hello\", \"World\", sep=\"**\")\n",
        "print(\"Hello\", \"World\", sep=\"//\")\n",
        "print(\"Hello\", end=\"*-*-*\")  # o end coloca o seu conteúdo no final"
      ]
    },
    {
      "cell_type": "code",
      "execution_count": null,
      "metadata": {
        "id": "ZH8GiyENWeDR"
      },
      "outputs": [],
      "source": [
        "# A função input() recebe dados do usuário:\n",
        "\n",
        "# Exercício 02\n",
        "\n",
        "\"\"\"\n",
        "Ask the user for his name and give him a welcome message.\n",
        "\"\"\"\n",
        "\n",
        "# Solution\n",
        "name = input(\"What's is your name? \")\n",
        "print(f\"Hi {name}, nice to meet you!\")\n",
        "print(\"Hi {}, nice to meet you!\".format(name))\n",
        "print(\"Hi\", name + \", nice to meet you!\")  # If we use the comma it will add a space\n",
        "# But with the plus it concatenates!"
      ]
    },
    {
      "cell_type": "markdown",
      "metadata": {
        "id": "UsA-f7cn-U6F"
      },
      "source": [
        "# 3.1. Using Python as a Calculator"
      ]
    },
    {
      "cell_type": "markdown",
      "metadata": {
        "id": "y6OwkKo27B3c"
      },
      "source": [
        "# 3.1.1. Números\n",
        "\n",
        "Em Python os números são bastante diretos, os operadores são: soma (+), subtração (-), divisão (/), multiplicação (*), resto (%), divisão inteira (//) e potênciação (**)\n"
      ]
    },
    {
      "cell_type": "code",
      "execution_count": null,
      "metadata": {
        "id": "AoSDUmeWuJrh"
      },
      "outputs": [],
      "source": [
        "# Soma: \n",
        "\n",
        "1 + 1\n",
        "5 + -1 # Não é necessário por parentêses no (-1).\n",
        "       # O python já sabe que é um valor negativo.\n",
        "\n",
        "# Subtração:\n",
        "\n",
        "1 - 1\n",
        "-5 - 9\n",
        "\n",
        "# DIvisão:\n",
        "\n",
        "10 / 5 # Divisão sempre retorna um Float\n",
        "10 / 9\n",
        "\n",
        "# Multiplicação:\n",
        "\n",
        "5 * 0\n",
        "10 * 110\n",
        "\n",
        "# Resto:\n",
        "\n",
        "10 % 7 # 10 dividido por 7 da um sobra, 3 logo essa operação dá 3\n",
        "20 % 2 # Essa operação é útil para encontrar pares e ímpares\n",
        "10 % 3 # Pois todo número par dividido por outro par dá resto 0\n",
        "\n",
        "# Divisão inteira:\n",
        "\n",
        "10 // 7 # 10 dividido por 7 da um sobra 3, logo essa operação dá 1\n",
        "\n",
        "# Exp:\n",
        "\n",
        "2 ** 2\n",
        "2 ** 3\n",
        "\n",
        "# A precedência de operadores é:\n",
        "# parênteses, expoentes, multiplicação/divisão, adição/subtração"
      ]
    },
    {
      "cell_type": "code",
      "execution_count": 5,
      "metadata": {
        "colab": {
          "base_uri": "https://localhost:8080/"
        },
        "id": "6hgSbVTtXFeP",
        "outputId": "13744eb4-4b19-4400-f18c-7f8a8b8c0fa1"
      },
      "outputs": [
        {
          "name": "stdout",
          "output_type": "stream",
          "text": [
            "Insira um número:\n",
            "4\n",
            "O número anterior é: 3\n",
            "O número posterior é: 5\n",
            "O dobro é: 8\n",
            "O triplo é: 12\n",
            "E sua raiz quadrada é: 2.0\n"
          ]
        }
      ],
      "source": [
        "# Exercício 03\n",
        "\n",
        "\"\"\"\n",
        "Escreva um programa que leia um número e diga seu:\n",
        "\n",
        "- Anterior e posterior;\n",
        "- Dobro, triplo e raiz quadrada\n",
        "\"\"\"\n",
        "\n",
        "def operações(x):\n",
        "    print(f\"O número anterior é: {x - 1}\")\n",
        "    print(f\"O número posterior é: {x + 1}\")\n",
        "    print(f\"O dobro é: {x * 2}\")\n",
        "    print(f\"O triplo é: {x * 3}\")\n",
        "    print(f\"E sua raiz quadrada é: {x ** 0.5}\")\n",
        "\n",
        "operações(int(input(\"Insira um número:\\n\")))"
      ]
    },
    {
      "cell_type": "markdown",
      "metadata": {
        "id": "mBX-THuS-Iei"
      },
      "source": [
        "# 3.1.2. Strings\n",
        "\n"
      ]
    },
    {
      "cell_type": "code",
      "execution_count": null,
      "metadata": {
        "id": "GIG5_5pJ8f_N"
      },
      "outputs": [],
      "source": [
        "# String é texto, e no python não há diferença de string e char's\n",
        "# Uma string de apenas 1 character é uma string pequenininha u.u\n",
        "\n",
        "\"Podemos declarar string com aspas duplas\"\n",
        "'Ou com aspas simples'\n",
        "\"Como a maioria dos textos são em inglês e usa-se muito o ', eu vou usar aspas duplas\"\n"
      ]
    },
    {
      "cell_type": "code",
      "execution_count": null,
      "metadata": {
        "id": "BgRipQVJ8vJa"
      },
      "outputs": [],
      "source": [
        "# existem operações que podem ser feitas com strings e a função print()\n",
        "print(\"Por exemplo, colocar \\ngera uma nova linha\")\n",
        "print(\"Na verdade o contra barra é um character especial\")\n",
        "# E dependendo com quem ele está, ele gera um comando diferente\n",
        "# \\n pula linha\n",
        "# \\a coloca um ponto na frase, tipo para lista\n",
        "\n",
        "# Para evitar isso coloca-se um r antes das aspas, dizendo para o python que\n",
        "# essa string é uma raw string u.u\n",
        "print(\"O\\n babaiaga\")\n",
        "print(\"O\\a babaiaga\")\n",
        "print(r\"O\\n babaiaga\")\n",
        "print(r\"O\\a babaiaga\")\n",
        "\n"
      ]
    },
    {
      "cell_type": "code",
      "execution_count": null,
      "metadata": {
        "id": "6vbAjDpj8vNk"
      },
      "outputs": [],
      "source": [
        "# Existem outras formas de fazer um print que são muito hacker man!\n",
        "print(\"Essa forma aqui, \"\n",
        "      \"a frase ainda vai \"\n",
        "      \"printada na mesma linha \"\n",
        "      r\"caso eu não use \\n por exemplo\"\n",
        "\n",
        ")"
      ]
    },
    {
      "cell_type": "code",
      "execution_count": null,
      "metadata": {
        "id": "uom7YD_M8vSY"
      },
      "outputs": [],
      "source": [
        "# Já usando aspas triplas é possível fazer uns print bem loko\n",
        "\n",
        "print(\"\"\"Oi abigos\n",
        "\n",
        "    Me llamo Ramon Bolivar           +---+---+---+---+---+---+\n",
        "                                     | P | y | t | h | o | n |\n",
        "                                     +---+---+---+---+---+---+\n",
        "                                     0   1   2   3   4   5   6\n",
        "                                     -6  -5  -4  -3  -2  -1\n",
        "\n",
        "\n",
        "\t\n",
        "(づ｡◕‿‿◕｡)づ: (◕‿◕) \t\t\n",
        "                                                                (づ｡◕‿‿◕｡)づ: (◕‿◕)\n",
        "(づ｡◕‿‿◕｡)づ: (◕‿◕)\t\n",
        "(づ｡◕‿‿◕｡)づ: (◕‿◕)\n",
        "\"\"\")"
      ]
    },
    {
      "cell_type": "code",
      "execution_count": null,
      "metadata": {
        "id": "cmo0n4vlBoH9"
      },
      "outputs": [],
      "source": [
        "# Dá para fazer concatenação de strings:\n",
        "\n",
        "a = \"Bola falando: \"\n",
        "b = \"Karalho Zé... \"\n",
        "c = \"Vai ser pai de novo...\"\n",
        "print(a + b + c) # Não se a diferença entre o mais e a virgula,\n",
        "print(a, b, c)   # Mas, para concatenação, vou continuar usando o sinal de mais\n",
        "\n",
        "# Também é possível multiplicar carácteres:\n",
        "\n",
        "print(\"Oi \" * 10)\n",
        "print(\"-=-\" * 25)"
      ]
    },
    {
      "cell_type": "code",
      "execution_count": null,
      "metadata": {
        "id": "FSxZWziwEDyp"
      },
      "outputs": [],
      "source": [
        "# String index:Strings podem ser indexadas (subscritos), \n",
        "# com o primeiro caractere tendo índice 0:\n",
        "\n",
        "teste = \"123456789\"\n",
        "teste[1]\n",
        "\n",
        "# Os índices também podem ser números negativos, para começar a contar da direita:\n",
        "\n",
        "teste[-1]\n",
        "\n",
        "# Além da indexação, o fatiamento também é suportado. \n",
        "# Enquanto a indexação é usada para obter caracteres individuais, \n",
        "# o fatiamento permite obter a substring:\n",
        "\n",
        "teste[1:5]\n",
        "\n",
        "teste[:3] + teste[3:] # Observe como o início é sempre incluído e o fim sempre excluído. \n",
        "# Isso garante que s[:i] + s[i:] seja sempre igual a s:\n",
        "\n",
        "# Strings são imutáveis, não é possível adicionar caracteres depois\n",
        "# pra isso crie uma nova string u,u"
      ]
    },
    {
      "cell_type": "code",
      "execution_count": null,
      "metadata": {
        "id": "h4v6F_GwFdK1"
      },
      "outputs": [],
      "source": [
        "# A função len da o tamanho de uma string:\n",
        "\n",
        "nome = \"Marcos\"\n",
        "len(nome)"
      ]
    },
    {
      "cell_type": "markdown",
      "metadata": {
        "id": "JWyCjxuzF_43"
      },
      "source": [
        "# 3.1.3. Lists\n",
        "\n",
        "Python conhece vários tipos de dados compostos, usados para agrupar outros valores. A mais versátil é a lista, que pode ser escrita como uma lista de valores separados por vírgulas (itens) entre colchetes. As listas podem conter itens de tipos diferentes, mas geralmente todos os itens têm o mesmo tipo."
      ]
    },
    {
      "cell_type": "code",
      "execution_count": null,
      "metadata": {
        "colab": {
          "base_uri": "https://localhost:8080/"
        },
        "id": "ysuv00ulG4MD",
        "outputId": "aa958f06-31bf-455a-992e-3aa4966bc132"
      },
      "outputs": [
        {
          "data": {
            "text/plain": [
              "['Arroz', 'Feijão', 'Frango', 'Batata', 'Ovos']"
            ]
          },
          "execution_count": 57,
          "metadata": {},
          "output_type": "execute_result"
        }
      ],
      "source": [
        "comidas = [\"Arroz\", \"Feijão\", \"Frango\", \"Batata\", \"Ovos\"]\n",
        "comidas\n",
        "\n",
        "# Assim como as strings (e todos os outros tipos de sequência integrados), \n",
        "# as listas podem ser indexadas e divididas: \n",
        "\n",
        "comidas[0] # Porém o índex retorna o item, não o caractere\n",
        "\n",
        "comidas[2:4]\n",
        "\n",
        "comidas[:3] + comidas[3:]\n"
      ]
    },
    {
      "cell_type": "code",
      "execution_count": null,
      "metadata": {
        "id": "Os0NpqMpILm6"
      },
      "outputs": [],
      "source": [
        "# Todas as operações de fatiamento retornam uma nova lista contendo os elementos solicitados. \n",
        "# Isso significa que a fatia a seguir retorna uma cópia superficial da lista:\n",
        "\n",
        "comidas[:]\n",
        "\n",
        "# listas aceitam concatenação:\n",
        "comidas_update = comidas + [\"Banana\", \"Linguiça\", \"Bacon\"]\n",
        "\n",
        "# listas podem ser modificadas:\n",
        "# banana é uma fruta e batata um legume\n",
        "comidas_update[3] = \"Batata Frita\"\n",
        "comidas_update[5] = \"Filé\"\n",
        "comidas_update\n",
        "\n",
        "# O método append adiciona itens ao fim de uma lista:\n",
        "\n",
        "comidas_update.append(\"Macarrão\")\n",
        "\n",
        "novo = input(\"Comida\")\n",
        "comidas_update.append(novo)\n",
        "comidas_update\n",
        "\n"
      ]
    },
    {
      "cell_type": "code",
      "execution_count": null,
      "metadata": {
        "colab": {
          "base_uri": "https://localhost:8080/"
        },
        "id": "sKz9sxNqKbrL",
        "outputId": "7ba1f7b0-0ed6-4562-f8c7-6518c025a83d"
      },
      "outputs": [
        {
          "data": {
            "text/plain": [
              "[]"
            ]
          },
          "execution_count": 70,
          "metadata": {},
          "output_type": "execute_result"
        }
      ],
      "source": [
        "# É possível usar slices também para modificar vários itens de uma lista\n",
        "\n",
        "comidas_update[:3] = []\n",
        "comidas_update\n",
        "\n",
        "# E para excluir a lista:\n",
        "\n",
        "comidas_update [:] = []\n",
        "comidas_update"
      ]
    },
    {
      "cell_type": "code",
      "execution_count": null,
      "metadata": {
        "id": "8vKfHzPAK3um"
      },
      "outputs": [],
      "source": [
        "# A função len também se aplica a listas:\n",
        "\n",
        "num = [0, 1, 2, 3, 4, 5]\n",
        "len(num) # retorna 6\n",
        "\n",
        "# E é possível cirar lista dentro de listas, chamadas de listas 2D\n",
        "\n",
        "num = [0, 1, 2, [3, 4, 5]]\n",
        "len(num) # retorna 4\n",
        "\n",
        "# para acessar os valores internos usamos [lista externa][lista interna]\n",
        "num[3][2] # Para acessar o valor 5\n"
      ]
    },
    {
      "cell_type": "code",
      "execution_count": null,
      "metadata": {
        "id": "056vFmOiLvkm"
      },
      "outputs": [],
      "source": [
        "# Fibonacci series:\n",
        "# the sum of two elements defines the next\n",
        "a, b = 0, 1\n",
        "while a < 10:\n",
        "    print(a)\n",
        "    a, b = b, a+b\n",
        "\n",
        "# Um exemplo de algo legal que dá para se fazer com Python u.u"
      ]
    },
    {
      "cell_type": "markdown",
      "metadata": {
        "id": "kjzJjTIMTcVU"
      },
      "source": [
        "# Notebook do Marcos (づ｡◕‿‿◕｡)づ"
      ]
    }
  ],
  "metadata": {
    "colab": {
      "collapsed_sections": [],
      "name": "01. An Informal Introduction to Python.ipynb",
      "provenance": []
    },
    "kernelspec": {
      "display_name": "Python 3",
      "name": "python3"
    },
    "language_info": {
      "name": "python"
    }
  },
  "nbformat": 4,
  "nbformat_minor": 0
}
